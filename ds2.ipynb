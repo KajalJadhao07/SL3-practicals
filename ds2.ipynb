{
 "cells": [
  {
   "cell_type": "code",
   "execution_count": 27,
   "id": "6023e021-a8e0-4ef9-bfde-d3a1e6793a69",
   "metadata": {},
   "outputs": [],
   "source": [
    "import pandas as pd\n",
    "import numpy as np\n",
    "import seaborn as sns\n",
    "import matplotlib.pyplot as plt\n",
    "from sklearn.preprocessing import MinMaxScaler, LabelEncoder"
   ]
  },
  {
   "cell_type": "code",
   "execution_count": 29,
   "id": "8b084ea6-7190-4827-a836-57320c4372b0",
   "metadata": {},
   "outputs": [],
   "source": [
    "df = pd.read_csv(\"dataset.csv\")"
   ]
  },
  {
   "cell_type": "code",
   "execution_count": 30,
   "id": "1f814164-b7cc-41df-b71b-b3bdf006359a",
   "metadata": {},
   "outputs": [
    {
     "name": "stdout",
     "output_type": "stream",
     "text": [
      "Initial Dataset Overview:\n",
      "   Roll_No.    Name  FE Score  SE Score Placement Department\n",
      "0         1  Sukesh       8.0       8.0        No         IT\n",
      "1         2  Sukesh       9.0       6.0        No         IT\n",
      "2         3  Haresh       7.0       9.0       Yes         CS\n",
      "3         4  Sukesh       8.0       7.0       Yes         IT\n",
      "4         5  Haresh      10.0       0.0        No      AI&DS\n",
      "\n",
      "Dataset Info:\n",
      "<class 'pandas.core.frame.DataFrame'>\n",
      "RangeIndex: 201 entries, 0 to 200\n",
      "Data columns (total 6 columns):\n",
      " #   Column      Non-Null Count  Dtype  \n",
      "---  ------      --------------  -----  \n",
      " 0   Roll_No.    201 non-null    int64  \n",
      " 1   Name        201 non-null    object \n",
      " 2   FE Score    191 non-null    float64\n",
      " 3   SE Score    192 non-null    float64\n",
      " 4   Placement   201 non-null    object \n",
      " 5   Department  201 non-null    object \n",
      "dtypes: float64(2), int64(1), object(3)\n",
      "memory usage: 9.6+ KB\n",
      "None\n",
      "\n",
      "Missing Values:\n",
      "Roll_No.       0\n",
      "Name           0\n",
      "FE Score      10\n",
      "SE Score       9\n",
      "Placement      0\n",
      "Department     0\n",
      "dtype: int64\n"
     ]
    }
   ],
   "source": [
    "print(\"Initial Dataset Overview:\")\n",
    "print(df.head())\n",
    "print(\"\\nDataset Info:\")\n",
    "print(df.info())\n",
    "print(\"\\nMissing Values:\")\n",
    "print(df.isna().sum())"
   ]
  },
  {
   "cell_type": "code",
   "execution_count": 32,
   "id": "6f5d7a36-d589-4bd4-b216-4382b6b4ae58",
   "metadata": {},
   "outputs": [],
   "source": [
    "df['FE Score'] = df['FE Score'].fillna(df['FE Score'].median())"
   ]
  },
  {
   "cell_type": "code",
   "execution_count": 33,
   "id": "8a92f7fd-aac6-4bea-a698-b59a81aa0d66",
   "metadata": {},
   "outputs": [],
   "source": [
    "df['SE Score'] = df['SE Score'].fillna(df['SE Score'].mode()[0])"
   ]
  },
  {
   "cell_type": "code",
   "execution_count": 34,
   "id": "a658609c-7ea8-4e8e-bc3c-b87d7e586412",
   "metadata": {},
   "outputs": [],
   "source": [
    "df['Placement'] = df['Placement'].fillna(df['Placement'].mode()[0])"
   ]
  },
  {
   "cell_type": "code",
   "execution_count": 35,
   "id": "3733cd86-bbae-4266-9c8a-4e6aa3148c85",
   "metadata": {},
   "outputs": [
    {
     "name": "stdout",
     "output_type": "stream",
     "text": [
      "\n",
      "After handling missing values:\n",
      "Roll_No.      0\n",
      "Name          0\n",
      "FE Score      0\n",
      "SE Score      0\n",
      "Placement     0\n",
      "Department    0\n",
      "dtype: int64\n"
     ]
    }
   ],
   "source": [
    "print(\"\\nAfter handling missing values:\")\n",
    "print(df.isna().sum())"
   ]
  },
  {
   "cell_type": "code",
   "execution_count": 36,
   "id": "07f8f044-f85a-4295-88f6-89b8817dd603",
   "metadata": {},
   "outputs": [
    {
     "data": {
      "text/plain": [
       "Text(0.5, 1.0, 'FE_Score Boxplot')"
      ]
     },
     "execution_count": 36,
     "metadata": {},
     "output_type": "execute_result"
    },
    {
     "data": {
      "image/png": "[encoded data removed]",
      "text/plain": [
       "<Figure size 1200x500 with 1 Axes>"
      ]
     },
     "metadata": {},
     "output_type": "display_data"
    }
   ],
   "source": [
    "plt.figure(figsize=(12, 5))\n",
    "plt.subplot(1, 2, 1)\n",
    "sns.boxplot(df[\"FE Score\"])\n",
    "plt.title(\"FE_Score Boxplot\")"
   ]
  },
  {
   "cell_type": "code",
   "execution_count": 38,
   "id": "ad6d0a93-d026-4994-a217-9a8ab1c012d3",
   "metadata": {},
   "outputs": [
    {
     "data": {
      "image/png": "[encoded data removed]",
      "text/plain": [
       "<Figure size 640x480 with 1 Axes>"
      ]
     },
     "metadata": {},
     "output_type": "display_data"
    }
   ],
   "source": [
    "plt.subplot(1, 2, 2)\n",
    "sns.boxplot(df[\"SE Score\"])\n",
    "plt.title(\"SE_Score Boxplot\")\n",
    "plt.show()"
   ]
  },
  {
   "cell_type": "code",
   "execution_count": 39,
   "id": "045759c2-1783-42ef-b9e0-fb5ec7a0db7d",
   "metadata": {},
   "outputs": [],
   "source": [
    "def detect_outliers(col):\n",
    "    Q1 = df[col].quantile(0.25)\n",
    "    Q3 = df[col].quantile(0.75)\n",
    "    IQR = Q3 - Q1\n",
    "    lower_bound = Q1 - 1.5 * IQR\n",
    "    upper_bound = Q3 + 1.5 * IQR\n",
    "    return df[(df[col] < lower_bound) | (df[col] > upper_bound)]"
   ]
  },
  {
   "cell_type": "code",
   "execution_count": 41,
   "id": "c631d377-bb89-4f59-acf9-77f588d64768",
   "metadata": {},
   "outputs": [
    {
     "name": "stdout",
     "output_type": "stream",
     "text": [
      "\n",
      "FE_Score Outliers:\n",
      "Empty DataFrame\n",
      "Columns: [Roll_No., Name, FE Score, SE Score, Placement, Department]\n",
      "Index: []\n",
      "\n",
      "SE_Score Outliers:\n",
      "     Roll_No.    Name  FE Score  SE Score Placement Department\n",
      "4           5  Haresh      10.0       0.0        No      AI&DS\n",
      "7           8  Sukesh       8.0      69.0        No      AI&DS\n",
      "24         25  Ramesh       7.0      69.0       Yes         IT\n",
      "30         31  Ramesh       7.0      69.0        No      AI&DS\n",
      "156       157  Suresh       8.0      69.0       Yes         CS\n",
      "159       160  Suresh       8.0      69.0        No         IT\n"
     ]
    }
   ],
   "source": [
    "print(\"\\nFE_Score Outliers:\")\n",
    "print(detect_outliers(\"FE Score\"))\n",
    "print(\"\\nSE_Score Outliers:\")\n",
    "print(detect_outliers(\"SE Score\"))"
   ]
  },
  {
   "cell_type": "code",
   "execution_count": 42,
   "id": "0ab4b94a-3024-40d3-9fee-e5c3181802e3",
   "metadata": {},
   "outputs": [],
   "source": [
    "def remove_outliers(df, col):\n",
    "    Q1 = df[col].quantile(0.25)\n",
    "    Q3 = df[col].quantile(0.75)\n",
    "    IQR = Q3 - Q1\n",
    "    lower_bound = Q1 - 1.5 * IQR\n",
    "    upper_bound = Q3 + 1.5 * IQR\n",
    "    return df[(df[col] >= lower_bound) & (df[col] <= upper_bound)]\n",
    "\n",
    "# Remove outliers from both columns sequentially\n",
    "df_clean = remove_outliers(df, \"FE Score\")\n",
    "df_clean = remove_outliers(df_clean, \"SE Score\")"
   ]
  },
  {
   "cell_type": "code",
   "execution_count": 44,
   "id": "2aa5390f-3ad6-4549-bb1e-b23eefcceaeb",
   "metadata": {},
   "outputs": [],
   "source": [
    "scaler = MinMaxScaler()\n",
    "df_clean[[\"FE Score\", \"SE Score\"]] = scaler.fit_transform(\n",
    "    df_clean[[\"FE Score\", \"SE Score\"]]\n",
    ")"
   ]
  },
  {
   "cell_type": "code",
   "execution_count": 45,
   "id": "8f0242d6-71f3-4c2c-9d6b-68276a70c82a",
   "metadata": {},
   "outputs": [],
   "source": [
    "le = LabelEncoder()\n",
    "df_clean[\"Department\"] = le.fit_transform(df_clean[\"Department\"])"
   ]
  },
  {
   "cell_type": "code",
   "execution_count": 46,
   "id": "df707161-3d04-406c-be6e-401a1dcdd383",
   "metadata": {},
   "outputs": [
    {
     "data": {
      "text/html": [
       "<div>\n",
       "<style scoped>\n",
       "    .dataframe tbody tr th:only-of-type {\n",
       "        vertical-align: middle;\n",
       "    }\n",
       "\n",
       "    .dataframe tbody tr th {\n",
       "        vertical-align: top;\n",
       "    }\n",
       "\n",
       "    .dataframe thead th {\n",
       "        text-align: right;\n",
       "    }\n",
       "</style>\n",
       "<table border=\"1\" class=\"dataframe\">\n",
       "  <thead>\n",
       "    <tr style=\"text-align: right;\">\n",
       "      <th></th>\n",
       "      <th>Roll_No.</th>\n",
       "      <th>Name</th>\n",
       "      <th>FE Score</th>\n",
       "      <th>SE Score</th>\n",
       "      <th>Placement</th>\n",
       "      <th>Department</th>\n",
       "    </tr>\n",
       "  </thead>\n",
       "  <tbody>\n",
       "    <tr>\n",
       "      <th>0</th>\n",
       "      <td>1</td>\n",
       "      <td>Sukesh</td>\n",
       "      <td>0.50</td>\n",
       "      <td>0.50</td>\n",
       "      <td>No</td>\n",
       "      <td>2</td>\n",
       "    </tr>\n",
       "    <tr>\n",
       "      <th>1</th>\n",
       "      <td>2</td>\n",
       "      <td>Sukesh</td>\n",
       "      <td>0.75</td>\n",
       "      <td>0.00</td>\n",
       "      <td>No</td>\n",
       "      <td>2</td>\n",
       "    </tr>\n",
       "    <tr>\n",
       "      <th>2</th>\n",
       "      <td>3</td>\n",
       "      <td>Haresh</td>\n",
       "      <td>0.25</td>\n",
       "      <td>0.75</td>\n",
       "      <td>Yes</td>\n",
       "      <td>1</td>\n",
       "    </tr>\n",
       "    <tr>\n",
       "      <th>3</th>\n",
       "      <td>4</td>\n",
       "      <td>Sukesh</td>\n",
       "      <td>0.50</td>\n",
       "      <td>0.25</td>\n",
       "      <td>Yes</td>\n",
       "      <td>2</td>\n",
       "    </tr>\n",
       "    <tr>\n",
       "      <th>5</th>\n",
       "      <td>6</td>\n",
       "      <td>Haresh</td>\n",
       "      <td>0.00</td>\n",
       "      <td>0.25</td>\n",
       "      <td>Yes</td>\n",
       "      <td>2</td>\n",
       "    </tr>\n",
       "  </tbody>\n",
       "</table>\n",
       "</div>"
      ],
      "text/plain": [
       "   Roll_No.    Name  FE Score  SE Score Placement  Department\n",
       "0         1  Sukesh      0.50      0.50        No           2\n",
       "1         2  Sukesh      0.75      0.00        No           2\n",
       "2         3  Haresh      0.25      0.75       Yes           1\n",
       "3         4  Sukesh      0.50      0.25       Yes           2\n",
       "5         6  Haresh      0.00      0.25       Yes           2"
      ]
     },
     "execution_count": 46,
     "metadata": {},
     "output_type": "execute_result"
    }
   ],
   "source": [
    "df_clean.head()"
   ]
  },
  {
   "cell_type": "code",
   "execution_count": null,
   "id": "21fe24f4-1b57-4c3d-9143-53da372e58d0",
   "metadata": {},
   "outputs": [],
   "source": []
  }
 ],
 "metadata": {
  "kernelspec": {
   "display_name": "Python 3 (ipykernel)",
   "language": "python",
   "name": "python3"
  },
  "language_info": {
   "codemirror_mode": {
    "name": "ipython",
    "version": 3
   },
   "file_extension": ".py",
   "mimetype": "text/x-python",
   "name": "python",
   "nbconvert_exporter": "python",
   "pygments_lexer": "ipython3",
   "version": "3.13.3"
  }
 },
 "nbformat": 4,
 "nbformat_minor": 5
}
