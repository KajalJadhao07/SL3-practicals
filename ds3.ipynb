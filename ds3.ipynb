{
 "cells": [
  {
   "cell_type": "markdown",
   "id": "a1f7fc1e-40b5-4409-86d5-6db2fdc64fe6",
   "metadata": {},
   "source": [
    "3rd 1st"
   ]
  },
  {
   "cell_type": "code",
   "execution_count": 1,
   "id": "ac3b04e8-a428-481b-9589-66d53ac7265e",
   "metadata": {},
   "outputs": [],
   "source": [
    "import pandas as pd\n",
    "import numpy as np\n",
    "import seaborn as sns\n"
   ]
  },
  {
   "cell_type": "code",
   "execution_count": 2,
   "id": "dc91b07e-89ed-4b5c-a0fa-2a8b53e63671",
   "metadata": {},
   "outputs": [
    {
     "data": {
      "text/plain": [
       "(4653, 9)"
      ]
     },
     "execution_count": 2,
     "metadata": {},
     "output_type": "execute_result"
    }
   ],
   "source": [
    "df = pd.read_csv('Employee.csv')\n",
    "df.head()\n",
    "\n",
    "df.shape"
   ]
  },
  {
   "cell_type": "code",
   "execution_count": 3,
   "id": "32052521-fef8-4558-994c-4bc507201825",
   "metadata": {},
   "outputs": [
    {
     "data": {
      "text/plain": [
       "Education\n",
       "Bachelors    3601\n",
       "Masters       873\n",
       "PHD           179\n",
       "Name: count, dtype: int64"
      ]
     },
     "execution_count": 3,
     "metadata": {},
     "output_type": "execute_result"
    }
   ],
   "source": [
    "df['JoiningYear'].value_counts()\n",
    "\n",
    "#Average Age \n",
    "df['Age'].mean()\n",
    "\n",
    "#Most Common City\n",
    "df['City'].value_counts()\n",
    "\n",
    "#Most Common Education\n",
    "df['Education'].value_counts()\n"
   ]
  },
  {
   "cell_type": "code",
   "execution_count": 4,
   "id": "18c48849-4d7b-4cd5-a6f5-3a3dc3bd9f75",
   "metadata": {},
   "outputs": [
    {
     "data": {
      "text/plain": [
       "Education                    False\n",
       "JoiningYear                  False\n",
       "City                         False\n",
       "PaymentTier                  False\n",
       "Age                          False\n",
       "Gender                       False\n",
       "EverBenched                  False\n",
       "ExperienceInCurrentDomain    False\n",
       "LeaveOrNot                   False\n",
       "dtype: bool"
      ]
     },
     "execution_count": 4,
     "metadata": {},
     "output_type": "execute_result"
    }
   ],
   "source": [
    "df.isnull().any()\n"
   ]
  },
  {
   "cell_type": "code",
   "execution_count": 5,
   "id": "9c138f12-d806-4cfd-a8f1-5584ee63f9a9",
   "metadata": {},
   "outputs": [
    {
     "data": {
      "text/plain": [
       "np.int64(1889)"
      ]
     },
     "execution_count": 5,
     "metadata": {},
     "output_type": "execute_result"
    }
   ],
   "source": [
    "df.duplicated().sum()"
   ]
  },
  {
   "cell_type": "code",
   "execution_count": 6,
   "id": "00edd771-fb96-446a-8438-b87e593c9076",
   "metadata": {},
   "outputs": [
    {
     "data": {
      "text/html": [
       "<div>\n",
       "<style scoped>\n",
       "    .dataframe tbody tr th:only-of-type {\n",
       "        vertical-align: middle;\n",
       "    }\n",
       "\n",
       "    .dataframe tbody tr th {\n",
       "        vertical-align: top;\n",
       "    }\n",
       "\n",
       "    .dataframe thead th {\n",
       "        text-align: right;\n",
       "    }\n",
       "</style>\n",
       "<table border=\"1\" class=\"dataframe\">\n",
       "  <thead>\n",
       "    <tr style=\"text-align: right;\">\n",
       "      <th></th>\n",
       "      <th>Education</th>\n",
       "      <th>JoiningYear</th>\n",
       "      <th>City</th>\n",
       "      <th>PaymentTier</th>\n",
       "      <th>Age</th>\n",
       "      <th>Gender</th>\n",
       "      <th>EverBenched</th>\n",
       "      <th>ExperienceInCurrentDomain</th>\n",
       "      <th>LeaveOrNot</th>\n",
       "      <th>Income</th>\n",
       "    </tr>\n",
       "  </thead>\n",
       "  <tbody>\n",
       "    <tr>\n",
       "      <th>1960</th>\n",
       "      <td>Bachelors</td>\n",
       "      <td>2014</td>\n",
       "      <td>Bangalore</td>\n",
       "      <td>3</td>\n",
       "      <td>24</td>\n",
       "      <td>Male</td>\n",
       "      <td>No</td>\n",
       "      <td>2</td>\n",
       "      <td>0</td>\n",
       "      <td>58044</td>\n",
       "    </tr>\n",
       "    <tr>\n",
       "      <th>1237</th>\n",
       "      <td>Bachelors</td>\n",
       "      <td>2018</td>\n",
       "      <td>Bangalore</td>\n",
       "      <td>3</td>\n",
       "      <td>26</td>\n",
       "      <td>Male</td>\n",
       "      <td>No</td>\n",
       "      <td>4</td>\n",
       "      <td>1</td>\n",
       "      <td>84302</td>\n",
       "    </tr>\n",
       "    <tr>\n",
       "      <th>451</th>\n",
       "      <td>Bachelors</td>\n",
       "      <td>2016</td>\n",
       "      <td>Bangalore</td>\n",
       "      <td>3</td>\n",
       "      <td>24</td>\n",
       "      <td>Male</td>\n",
       "      <td>No</td>\n",
       "      <td>2</td>\n",
       "      <td>0</td>\n",
       "      <td>36801</td>\n",
       "    </tr>\n",
       "    <tr>\n",
       "      <th>4152</th>\n",
       "      <td>Masters</td>\n",
       "      <td>2015</td>\n",
       "      <td>Pune</td>\n",
       "      <td>2</td>\n",
       "      <td>24</td>\n",
       "      <td>Female</td>\n",
       "      <td>No</td>\n",
       "      <td>2</td>\n",
       "      <td>0</td>\n",
       "      <td>76799</td>\n",
       "    </tr>\n",
       "    <tr>\n",
       "      <th>2459</th>\n",
       "      <td>Masters</td>\n",
       "      <td>2014</td>\n",
       "      <td>New Delhi</td>\n",
       "      <td>3</td>\n",
       "      <td>30</td>\n",
       "      <td>Male</td>\n",
       "      <td>Yes</td>\n",
       "      <td>2</td>\n",
       "      <td>0</td>\n",
       "      <td>86044</td>\n",
       "    </tr>\n",
       "    <tr>\n",
       "      <th>4637</th>\n",
       "      <td>Bachelors</td>\n",
       "      <td>2018</td>\n",
       "      <td>Bangalore</td>\n",
       "      <td>3</td>\n",
       "      <td>32</td>\n",
       "      <td>Male</td>\n",
       "      <td>Yes</td>\n",
       "      <td>2</td>\n",
       "      <td>1</td>\n",
       "      <td>54846</td>\n",
       "    </tr>\n",
       "    <tr>\n",
       "      <th>3329</th>\n",
       "      <td>Bachelors</td>\n",
       "      <td>2017</td>\n",
       "      <td>Bangalore</td>\n",
       "      <td>3</td>\n",
       "      <td>32</td>\n",
       "      <td>Male</td>\n",
       "      <td>No</td>\n",
       "      <td>5</td>\n",
       "      <td>0</td>\n",
       "      <td>90686</td>\n",
       "    </tr>\n",
       "    <tr>\n",
       "      <th>1709</th>\n",
       "      <td>Bachelors</td>\n",
       "      <td>2018</td>\n",
       "      <td>Bangalore</td>\n",
       "      <td>3</td>\n",
       "      <td>25</td>\n",
       "      <td>Male</td>\n",
       "      <td>No</td>\n",
       "      <td>3</td>\n",
       "      <td>1</td>\n",
       "      <td>30661</td>\n",
       "    </tr>\n",
       "    <tr>\n",
       "      <th>3879</th>\n",
       "      <td>Bachelors</td>\n",
       "      <td>2014</td>\n",
       "      <td>Bangalore</td>\n",
       "      <td>3</td>\n",
       "      <td>38</td>\n",
       "      <td>Female</td>\n",
       "      <td>No</td>\n",
       "      <td>2</td>\n",
       "      <td>0</td>\n",
       "      <td>55805</td>\n",
       "    </tr>\n",
       "    <tr>\n",
       "      <th>3781</th>\n",
       "      <td>Bachelors</td>\n",
       "      <td>2018</td>\n",
       "      <td>Bangalore</td>\n",
       "      <td>3</td>\n",
       "      <td>40</td>\n",
       "      <td>Male</td>\n",
       "      <td>Yes</td>\n",
       "      <td>3</td>\n",
       "      <td>1</td>\n",
       "      <td>75838</td>\n",
       "    </tr>\n",
       "  </tbody>\n",
       "</table>\n",
       "</div>"
      ],
      "text/plain": [
       "      Education  JoiningYear       City  PaymentTier  Age  Gender EverBenched  \\\n",
       "1960  Bachelors         2014  Bangalore            3   24    Male          No   \n",
       "1237  Bachelors         2018  Bangalore            3   26    Male          No   \n",
       "451   Bachelors         2016  Bangalore            3   24    Male          No   \n",
       "4152    Masters         2015       Pune            2   24  Female          No   \n",
       "2459    Masters         2014  New Delhi            3   30    Male         Yes   \n",
       "4637  Bachelors         2018  Bangalore            3   32    Male         Yes   \n",
       "3329  Bachelors         2017  Bangalore            3   32    Male          No   \n",
       "1709  Bachelors         2018  Bangalore            3   25    Male          No   \n",
       "3879  Bachelors         2014  Bangalore            3   38  Female          No   \n",
       "3781  Bachelors         2018  Bangalore            3   40    Male         Yes   \n",
       "\n",
       "      ExperienceInCurrentDomain  LeaveOrNot  Income  \n",
       "1960                          2           0   58044  \n",
       "1237                          4           1   84302  \n",
       "451                           2           0   36801  \n",
       "4152                          2           0   76799  \n",
       "2459                          2           0   86044  \n",
       "4637                          2           1   54846  \n",
       "3329                          5           0   90686  \n",
       "1709                          3           1   30661  \n",
       "3879                          2           0   55805  \n",
       "3781                          3           1   75838  "
      ]
     },
     "execution_count": 6,
     "metadata": {},
     "output_type": "execute_result"
    }
   ],
   "source": [
    "np.random.seed(42)\n",
    "df['Income'] = np.random.randint(30000, 100000, df.shape[0])\n",
    "df.sample(10)"
   ]
  },
  {
   "cell_type": "code",
   "execution_count": 7,
   "id": "0e106038-24cb-4435-aa4d-882c90346c2a",
   "metadata": {},
   "outputs": [
    {
     "name": "stdout",
     "output_type": "stream",
     "text": [
      "Mean Income: 64372.03997421019\n",
      "Minimum Income: 30055\n",
      "Maximum Income: 99967\n",
      "Median Income: 63828.0\n",
      "Standard Deviation of Income: 20100.38649740147\n",
      "Variance of Income: 404025537.3449193\n",
      "Mode of Age: 33748\n"
     ]
    }
   ],
   "source": [
    "print(\"Mean Income:\", df['Income'].mean())\n",
    "print(\"Minimum Income:\", df['Income'].min())\n",
    "print(\"Maximum Income:\", df['Income'].max())\n",
    "print(\"Median Income:\", df['Income'].median())\n",
    "print(\"Standard Deviation of Income:\", df['Income'].std())\n",
    "print(\"Variance of Income:\", df['Income'].var())\n",
    "print(\"Mode of Age:\", df['Income'].mode()[0])"
   ]
  },
  {
   "cell_type": "code",
   "execution_count": 8,
   "id": "6d691375-5dfe-4f45-92d9-22bbb5548346",
   "metadata": {},
   "outputs": [
    {
     "name": "stdout",
     "output_type": "stream",
     "text": [
      "Mean Age: 29.393294648613796\n",
      "Minimum Age: 22\n",
      "Maximum Age: 41\n",
      "Median Age: 28.0\n",
      "Standard Deviation of Age: 4.826087009126065\n",
      "Variance of Age: 23.29111581965536\n",
      "Mode of Age: 26\n"
     ]
    }
   ],
   "source": [
    "print(\"Mean Age:\", df['Age'].mean())\n",
    "print(\"Minimum Age:\", df['Age'].min())\n",
    "print(\"Maximum Age:\", df['Age'].max())\n",
    "print(\"Median Age:\", df['Age'].median())\n",
    "print(\"Standard Deviation of Age:\", df['Age'].std())\n",
    "print(\"Variance of Age:\", df['Age'].var())\n",
    "print(\"Mode of Age:\", df['Age'].mode()[0])\n"
   ]
  },
  {
   "cell_type": "code",
   "execution_count": 9,
   "id": "c8ea7df6-da32-469f-bb69-793f95cfceed",
   "metadata": {},
   "outputs": [],
   "source": [
    "def classify_income(income):\n",
    "    if income < 40000:\n",
    "        return 'Low Income'\n",
    "    elif income > 80000:\n",
    "        return 'High Income'\n",
    "    else:\n",
    "        return 'Moderate Income'"
   ]
  },
  {
   "cell_type": "code",
   "execution_count": 10,
   "id": "0372200a-dd81-48dd-8f75-928cabe844c9",
   "metadata": {},
   "outputs": [],
   "source": [
    "def categorize_age(age):\n",
    "    if age < 25:\n",
    "        return \"Experienced\"\n",
    "    elif age > 18 and age <= 60:\n",
    "        return \"Fresher\"\n",
    "    else:\n",
    "        return \"Retired\"\n"
   ]
  },
  {
   "cell_type": "code",
   "execution_count": 11,
   "id": "dbad2415-a9e9-45fb-b884-3d6894d930fc",
   "metadata": {},
   "outputs": [
    {
     "data": {
      "text/html": [
       "<div>\n",
       "<style scoped>\n",
       "    .dataframe tbody tr th:only-of-type {\n",
       "        vertical-align: middle;\n",
       "    }\n",
       "\n",
       "    .dataframe tbody tr th {\n",
       "        vertical-align: top;\n",
       "    }\n",
       "\n",
       "    .dataframe thead th {\n",
       "        text-align: right;\n",
       "    }\n",
       "</style>\n",
       "<table border=\"1\" class=\"dataframe\">\n",
       "  <thead>\n",
       "    <tr style=\"text-align: right;\">\n",
       "      <th></th>\n",
       "      <th>Education</th>\n",
       "      <th>JoiningYear</th>\n",
       "      <th>City</th>\n",
       "      <th>PaymentTier</th>\n",
       "      <th>Age</th>\n",
       "      <th>Gender</th>\n",
       "      <th>EverBenched</th>\n",
       "      <th>ExperienceInCurrentDomain</th>\n",
       "      <th>LeaveOrNot</th>\n",
       "      <th>Income</th>\n",
       "      <th>Income Category</th>\n",
       "      <th>Age Category</th>\n",
       "    </tr>\n",
       "  </thead>\n",
       "  <tbody>\n",
       "    <tr>\n",
       "      <th>2360</th>\n",
       "      <td>Bachelors</td>\n",
       "      <td>2014</td>\n",
       "      <td>Bangalore</td>\n",
       "      <td>3</td>\n",
       "      <td>30</td>\n",
       "      <td>Male</td>\n",
       "      <td>No</td>\n",
       "      <td>2</td>\n",
       "      <td>1</td>\n",
       "      <td>38472</td>\n",
       "      <td>Low Income</td>\n",
       "      <td>Fresher</td>\n",
       "    </tr>\n",
       "    <tr>\n",
       "      <th>3796</th>\n",
       "      <td>Bachelors</td>\n",
       "      <td>2016</td>\n",
       "      <td>Pune</td>\n",
       "      <td>2</td>\n",
       "      <td>37</td>\n",
       "      <td>Female</td>\n",
       "      <td>No</td>\n",
       "      <td>3</td>\n",
       "      <td>1</td>\n",
       "      <td>34131</td>\n",
       "      <td>Low Income</td>\n",
       "      <td>Fresher</td>\n",
       "    </tr>\n",
       "    <tr>\n",
       "      <th>865</th>\n",
       "      <td>Masters</td>\n",
       "      <td>2017</td>\n",
       "      <td>Pune</td>\n",
       "      <td>2</td>\n",
       "      <td>26</td>\n",
       "      <td>Male</td>\n",
       "      <td>No</td>\n",
       "      <td>4</td>\n",
       "      <td>0</td>\n",
       "      <td>67430</td>\n",
       "      <td>Moderate Income</td>\n",
       "      <td>Fresher</td>\n",
       "    </tr>\n",
       "    <tr>\n",
       "      <th>1535</th>\n",
       "      <td>Bachelors</td>\n",
       "      <td>2015</td>\n",
       "      <td>Pune</td>\n",
       "      <td>2</td>\n",
       "      <td>25</td>\n",
       "      <td>Female</td>\n",
       "      <td>Yes</td>\n",
       "      <td>3</td>\n",
       "      <td>1</td>\n",
       "      <td>45577</td>\n",
       "      <td>Moderate Income</td>\n",
       "      <td>Fresher</td>\n",
       "    </tr>\n",
       "    <tr>\n",
       "      <th>4069</th>\n",
       "      <td>Masters</td>\n",
       "      <td>2013</td>\n",
       "      <td>New Delhi</td>\n",
       "      <td>2</td>\n",
       "      <td>22</td>\n",
       "      <td>Male</td>\n",
       "      <td>Yes</td>\n",
       "      <td>0</td>\n",
       "      <td>1</td>\n",
       "      <td>35898</td>\n",
       "      <td>Low Income</td>\n",
       "      <td>Experienced</td>\n",
       "    </tr>\n",
       "    <tr>\n",
       "      <th>2344</th>\n",
       "      <td>Bachelors</td>\n",
       "      <td>2012</td>\n",
       "      <td>Bangalore</td>\n",
       "      <td>3</td>\n",
       "      <td>30</td>\n",
       "      <td>Female</td>\n",
       "      <td>No</td>\n",
       "      <td>2</td>\n",
       "      <td>0</td>\n",
       "      <td>59516</td>\n",
       "      <td>Moderate Income</td>\n",
       "      <td>Fresher</td>\n",
       "    </tr>\n",
       "    <tr>\n",
       "      <th>3557</th>\n",
       "      <td>PHD</td>\n",
       "      <td>2015</td>\n",
       "      <td>Bangalore</td>\n",
       "      <td>3</td>\n",
       "      <td>31</td>\n",
       "      <td>Male</td>\n",
       "      <td>No</td>\n",
       "      <td>3</td>\n",
       "      <td>0</td>\n",
       "      <td>63665</td>\n",
       "      <td>Moderate Income</td>\n",
       "      <td>Fresher</td>\n",
       "    </tr>\n",
       "    <tr>\n",
       "      <th>4415</th>\n",
       "      <td>Bachelors</td>\n",
       "      <td>2016</td>\n",
       "      <td>Bangalore</td>\n",
       "      <td>3</td>\n",
       "      <td>31</td>\n",
       "      <td>Male</td>\n",
       "      <td>No</td>\n",
       "      <td>5</td>\n",
       "      <td>0</td>\n",
       "      <td>35247</td>\n",
       "      <td>Low Income</td>\n",
       "      <td>Fresher</td>\n",
       "    </tr>\n",
       "    <tr>\n",
       "      <th>1320</th>\n",
       "      <td>Bachelors</td>\n",
       "      <td>2017</td>\n",
       "      <td>New Delhi</td>\n",
       "      <td>2</td>\n",
       "      <td>27</td>\n",
       "      <td>Male</td>\n",
       "      <td>No</td>\n",
       "      <td>5</td>\n",
       "      <td>0</td>\n",
       "      <td>51563</td>\n",
       "      <td>Moderate Income</td>\n",
       "      <td>Fresher</td>\n",
       "    </tr>\n",
       "    <tr>\n",
       "      <th>1921</th>\n",
       "      <td>Bachelors</td>\n",
       "      <td>2017</td>\n",
       "      <td>Bangalore</td>\n",
       "      <td>2</td>\n",
       "      <td>28</td>\n",
       "      <td>Female</td>\n",
       "      <td>No</td>\n",
       "      <td>2</td>\n",
       "      <td>1</td>\n",
       "      <td>56189</td>\n",
       "      <td>Moderate Income</td>\n",
       "      <td>Fresher</td>\n",
       "    </tr>\n",
       "  </tbody>\n",
       "</table>\n",
       "</div>"
      ],
      "text/plain": [
       "      Education  JoiningYear       City  PaymentTier  Age  Gender EverBenched  \\\n",
       "2360  Bachelors         2014  Bangalore            3   30    Male          No   \n",
       "3796  Bachelors         2016       Pune            2   37  Female          No   \n",
       "865     Masters         2017       Pune            2   26    Male          No   \n",
       "1535  Bachelors         2015       Pune            2   25  Female         Yes   \n",
       "4069    Masters         2013  New Delhi            2   22    Male         Yes   \n",
       "2344  Bachelors         2012  Bangalore            3   30  Female          No   \n",
       "3557        PHD         2015  Bangalore            3   31    Male          No   \n",
       "4415  Bachelors         2016  Bangalore            3   31    Male          No   \n",
       "1320  Bachelors         2017  New Delhi            2   27    Male          No   \n",
       "1921  Bachelors         2017  Bangalore            2   28  Female          No   \n",
       "\n",
       "      ExperienceInCurrentDomain  LeaveOrNot  Income  Income Category  \\\n",
       "2360                          2           1   38472       Low Income   \n",
       "3796                          3           1   34131       Low Income   \n",
       "865                           4           0   67430  Moderate Income   \n",
       "1535                          3           1   45577  Moderate Income   \n",
       "4069                          0           1   35898       Low Income   \n",
       "2344                          2           0   59516  Moderate Income   \n",
       "3557                          3           0   63665  Moderate Income   \n",
       "4415                          5           0   35247       Low Income   \n",
       "1320                          5           0   51563  Moderate Income   \n",
       "1921                          2           1   56189  Moderate Income   \n",
       "\n",
       "     Age Category  \n",
       "2360      Fresher  \n",
       "3796      Fresher  \n",
       "865       Fresher  \n",
       "1535      Fresher  \n",
       "4069  Experienced  \n",
       "2344      Fresher  \n",
       "3557      Fresher  \n",
       "4415      Fresher  \n",
       "1320      Fresher  \n",
       "1921      Fresher  "
      ]
     },
     "execution_count": 11,
     "metadata": {},
     "output_type": "execute_result"
    }
   ],
   "source": [
    "df['Income Category'] = df['Income'].apply(classify_income)\n",
    "df['Age Category'] = df['Age'].apply(categorize_age)\n",
    "df.sample(10)"
   ]
  },
  {
   "cell_type": "code",
   "execution_count": 12,
   "id": "39ac5868-2006-4b5f-87fb-3d40993c0ab0",
   "metadata": {},
   "outputs": [
    {
     "data": {
      "text/plain": [
       "Education\n",
       "Bachelors    64385.873924\n",
       "Masters      64494.807560\n",
       "PHD          63494.988827\n",
       "Name: Income, dtype: float64"
      ]
     },
     "execution_count": 12,
     "metadata": {},
     "output_type": "execute_result"
    }
   ],
   "source": [
    "df.groupby(['Age Category']).Income.mean()\n",
    "\n",
    "\n",
    "df.groupby(['Income Category']).Income.mean()\n",
    "\n",
    "df.groupby(['Education']).Income.mean()"
   ]
  },
  {
   "cell_type": "markdown",
   "id": "f69ec2b6-c67e-452b-a6ce-e5578639a850",
   "metadata": {},
   "source": [
    "3rd part2"
   ]
  },
  {
   "cell_type": "code",
   "execution_count": 14,
   "id": "8f9fa1f5-829e-4def-8425-c75df4b8b7d5",
   "metadata": {},
   "outputs": [],
   "source": [
    "import pandas as pd\n",
    "import numpy as np\n",
    "import seaborn as sns\n",
    "import matplotlib.pyplot as plt"
   ]
  },
  {
   "cell_type": "code",
   "execution_count": 15,
   "id": "53e80c67-50ff-480e-8a69-f7b835a56167",
   "metadata": {},
   "outputs": [],
   "source": [
    "df  = pd.read_csv('IRIS.csv')"
   ]
  },
  {
   "cell_type": "code",
   "execution_count": 16,
   "id": "23f2f246-db3d-4521-9544-4ae48030a57d",
   "metadata": {},
   "outputs": [
    {
     "data": {
      "text/html": [
       "<div>\n",
       "<style scoped>\n",
       "    .dataframe tbody tr th:only-of-type {\n",
       "        vertical-align: middle;\n",
       "    }\n",
       "\n",
       "    .dataframe tbody tr th {\n",
       "        vertical-align: top;\n",
       "    }\n",
       "\n",
       "    .dataframe thead th {\n",
       "        text-align: right;\n",
       "    }\n",
       "</style>\n",
       "<table border=\"1\" class=\"dataframe\">\n",
       "  <thead>\n",
       "    <tr style=\"text-align: right;\">\n",
       "      <th></th>\n",
       "      <th>Id</th>\n",
       "      <th>SepalLengthCm</th>\n",
       "      <th>SepalWidthCm</th>\n",
       "      <th>PetalLengthCm</th>\n",
       "      <th>PetalWidthCm</th>\n",
       "      <th>Species</th>\n",
       "    </tr>\n",
       "  </thead>\n",
       "  <tbody>\n",
       "    <tr>\n",
       "      <th>0</th>\n",
       "      <td>1</td>\n",
       "      <td>5.1</td>\n",
       "      <td>3.5</td>\n",
       "      <td>1.4</td>\n",
       "      <td>0.2</td>\n",
       "      <td>Iris-setosa</td>\n",
       "    </tr>\n",
       "    <tr>\n",
       "      <th>1</th>\n",
       "      <td>2</td>\n",
       "      <td>4.9</td>\n",
       "      <td>3.0</td>\n",
       "      <td>1.4</td>\n",
       "      <td>0.2</td>\n",
       "      <td>Iris-setosa</td>\n",
       "    </tr>\n",
       "    <tr>\n",
       "      <th>2</th>\n",
       "      <td>3</td>\n",
       "      <td>4.7</td>\n",
       "      <td>3.2</td>\n",
       "      <td>1.3</td>\n",
       "      <td>0.2</td>\n",
       "      <td>Iris-setosa</td>\n",
       "    </tr>\n",
       "    <tr>\n",
       "      <th>3</th>\n",
       "      <td>4</td>\n",
       "      <td>4.6</td>\n",
       "      <td>3.1</td>\n",
       "      <td>1.5</td>\n",
       "      <td>0.2</td>\n",
       "      <td>Iris-setosa</td>\n",
       "    </tr>\n",
       "    <tr>\n",
       "      <th>4</th>\n",
       "      <td>5</td>\n",
       "      <td>5.0</td>\n",
       "      <td>3.6</td>\n",
       "      <td>1.4</td>\n",
       "      <td>0.2</td>\n",
       "      <td>Iris-setosa</td>\n",
       "    </tr>\n",
       "  </tbody>\n",
       "</table>\n",
       "</div>"
      ],
      "text/plain": [
       "   Id  SepalLengthCm  SepalWidthCm  PetalLengthCm  PetalWidthCm      Species\n",
       "0   1            5.1           3.5            1.4           0.2  Iris-setosa\n",
       "1   2            4.9           3.0            1.4           0.2  Iris-setosa\n",
       "2   3            4.7           3.2            1.3           0.2  Iris-setosa\n",
       "3   4            4.6           3.1            1.5           0.2  Iris-setosa\n",
       "4   5            5.0           3.6            1.4           0.2  Iris-setosa"
      ]
     },
     "execution_count": 16,
     "metadata": {},
     "output_type": "execute_result"
    }
   ],
   "source": [
    "df.head()"
   ]
  },
  {
   "cell_type": "code",
   "execution_count": 17,
   "id": "6d9abc34-9781-47df-9f0d-d7e75da22fe1",
   "metadata": {},
   "outputs": [
    {
     "data": {
      "text/html": [
       "<div>\n",
       "<style scoped>\n",
       "    .dataframe tbody tr th:only-of-type {\n",
       "        vertical-align: middle;\n",
       "    }\n",
       "\n",
       "    .dataframe tbody tr th {\n",
       "        vertical-align: top;\n",
       "    }\n",
       "\n",
       "    .dataframe thead th {\n",
       "        text-align: right;\n",
       "    }\n",
       "</style>\n",
       "<table border=\"1\" class=\"dataframe\">\n",
       "  <thead>\n",
       "    <tr style=\"text-align: right;\">\n",
       "      <th></th>\n",
       "      <th>Id</th>\n",
       "      <th>SepalLengthCm</th>\n",
       "      <th>SepalWidthCm</th>\n",
       "      <th>PetalLengthCm</th>\n",
       "      <th>PetalWidthCm</th>\n",
       "    </tr>\n",
       "  </thead>\n",
       "  <tbody>\n",
       "    <tr>\n",
       "      <th>count</th>\n",
       "      <td>150.000000</td>\n",
       "      <td>150.000000</td>\n",
       "      <td>150.000000</td>\n",
       "      <td>150.000000</td>\n",
       "      <td>150.000000</td>\n",
       "    </tr>\n",
       "    <tr>\n",
       "      <th>mean</th>\n",
       "      <td>75.500000</td>\n",
       "      <td>5.843333</td>\n",
       "      <td>3.054000</td>\n",
       "      <td>3.758667</td>\n",
       "      <td>1.198667</td>\n",
       "    </tr>\n",
       "    <tr>\n",
       "      <th>std</th>\n",
       "      <td>43.445368</td>\n",
       "      <td>0.828066</td>\n",
       "      <td>0.433594</td>\n",
       "      <td>1.764420</td>\n",
       "      <td>0.763161</td>\n",
       "    </tr>\n",
       "    <tr>\n",
       "      <th>min</th>\n",
       "      <td>1.000000</td>\n",
       "      <td>4.300000</td>\n",
       "      <td>2.000000</td>\n",
       "      <td>1.000000</td>\n",
       "      <td>0.100000</td>\n",
       "    </tr>\n",
       "    <tr>\n",
       "      <th>25%</th>\n",
       "      <td>38.250000</td>\n",
       "      <td>5.100000</td>\n",
       "      <td>2.800000</td>\n",
       "      <td>1.600000</td>\n",
       "      <td>0.300000</td>\n",
       "    </tr>\n",
       "    <tr>\n",
       "      <th>50%</th>\n",
       "      <td>75.500000</td>\n",
       "      <td>5.800000</td>\n",
       "      <td>3.000000</td>\n",
       "      <td>4.350000</td>\n",
       "      <td>1.300000</td>\n",
       "    </tr>\n",
       "    <tr>\n",
       "      <th>75%</th>\n",
       "      <td>112.750000</td>\n",
       "      <td>6.400000</td>\n",
       "      <td>3.300000</td>\n",
       "      <td>5.100000</td>\n",
       "      <td>1.800000</td>\n",
       "    </tr>\n",
       "    <tr>\n",
       "      <th>max</th>\n",
       "      <td>150.000000</td>\n",
       "      <td>7.900000</td>\n",
       "      <td>4.400000</td>\n",
       "      <td>6.900000</td>\n",
       "      <td>2.500000</td>\n",
       "    </tr>\n",
       "  </tbody>\n",
       "</table>\n",
       "</div>"
      ],
      "text/plain": [
       "               Id  SepalLengthCm  SepalWidthCm  PetalLengthCm  PetalWidthCm\n",
       "count  150.000000     150.000000    150.000000     150.000000    150.000000\n",
       "mean    75.500000       5.843333      3.054000       3.758667      1.198667\n",
       "std     43.445368       0.828066      0.433594       1.764420      0.763161\n",
       "min      1.000000       4.300000      2.000000       1.000000      0.100000\n",
       "25%     38.250000       5.100000      2.800000       1.600000      0.300000\n",
       "50%     75.500000       5.800000      3.000000       4.350000      1.300000\n",
       "75%    112.750000       6.400000      3.300000       5.100000      1.800000\n",
       "max    150.000000       7.900000      4.400000       6.900000      2.500000"
      ]
     },
     "execution_count": 17,
     "metadata": {},
     "output_type": "execute_result"
    }
   ],
   "source": [
    "df.describe()"
   ]
  },
  {
   "cell_type": "code",
   "execution_count": 18,
   "id": "d2285dec-1872-497b-94a0-b34d93ec96f0",
   "metadata": {},
   "outputs": [],
   "source": [
    "def skewness(col):\n",
    "    return (3 * (col.mean() - col.median())/col.std())"
   ]
  },
  {
   "cell_type": "code",
   "execution_count": 19,
   "id": "b9e73973-024f-48fb-87a1-2114acb82731",
   "metadata": {},
   "outputs": [
    {
     "data": {
      "text/plain": [
       "Index(['Id', 'SepalLengthCm', 'SepalWidthCm', 'PetalLengthCm', 'PetalWidthCm',\n",
       "       'Species'],\n",
       "      dtype='object')"
      ]
     },
     "execution_count": 19,
     "metadata": {},
     "output_type": "execute_result"
    }
   ],
   "source": [
    "df.columns"
   ]
  },
  {
   "cell_type": "code",
   "execution_count": 20,
   "id": "c239cc55-498d-41d0-bda3-5182452ee2b1",
   "metadata": {},
   "outputs": [
    {
     "name": "stdout",
     "output_type": "stream",
     "text": [
      "0.15699229277432417\n",
      "0.3736211379043787\n",
      "-1.0054293069494158\n",
      "-0.3983433415645583\n"
     ]
    }
   ],
   "source": [
    "print(skewness(df['SepalLengthCm']))\n",
    "print(skewness(df['SepalWidthCm']))\n",
    "print(skewness(df['PetalLengthCm']))\n",
    "print(skewness(df['PetalWidthCm']))"
   ]
  },
  {
   "cell_type": "code",
   "execution_count": 33,
   "id": "172de1bf-5208-4f43-bfa4-2a5c92b6f9e6",
   "metadata": {},
   "outputs": [
    {
     "data": {
      "text/plain": [
       "<seaborn.axisgrid.FacetGrid at 0x22e8e9a8a50>"
      ]
     },
     "execution_count": 33,
     "metadata": {},
     "output_type": "execute_result"
    },
    {
     "data": {
      "image/png": "[encoded data removed]",
      "text/plain": [
       "<Figure size 500x500 with 1 Axes>"
      ]
     },
     "metadata": {},
     "output_type": "display_data"
    },
    {
     "data": {
      "image/png": "[encoded data removed]",
      "text/plain": [
       "<Figure size 500x500 with 1 Axes>"
      ]
     },
     "metadata": {},
     "output_type": "display_data"
    },
    {
     "data": {
      "image/png": "[encoded data removed]",
      "text/plain": [
       "<Figure size 500x500 with 1 Axes>"
      ]
     },
     "metadata": {},
     "output_type": "display_data"
    },
    {
     "data": {
      "image/png": "[encoded data removed]",
      "text/plain": [
       "<Figure size 500x500 with 1 Axes>"
      ]
     },
     "metadata": {},
     "output_type": "display_data"
    }
   ],
   "source": [
    "sns.displot(kde=True, data=df['SepalLengthCm'])\n",
    "sns.displot(kde=True, data=df['SepalWidthCm'])\n",
    "sns.displot(kde=True, data=df['PetalLengthCm'])\n",
    "sns.displot(kde=True, data=df['PetalWidthCm'])"
   ]
  },
  {
   "cell_type": "code",
   "execution_count": 34,
   "id": "07935304-0fc1-433c-a1e3-3ccf23b7f9f4",
   "metadata": {},
   "outputs": [],
   "source": [
    "df1 = df[df['Species'] == 'Iris-setosa']\n",
    "df2 = df[df['Species'] == 'Iris-versicolor']\n",
    "df3 = df[df['Species'] == 'Iris-virginica']"
   ]
  },
  {
   "cell_type": "code",
   "execution_count": 35,
   "id": "28f4d0fc-2563-4a2e-a6fb-4f3d33460e7d",
   "metadata": {},
   "outputs": [
    {
     "name": "stdout",
     "output_type": "stream",
     "text": [
      "(50, 6)\n",
      "(50, 6)\n",
      "(50, 6)\n"
     ]
    }
   ],
   "source": [
    "print(df1.shape)\n",
    "print(df2.shape)\n",
    "print(df3.shape)"
   ]
  },
  {
   "cell_type": "code",
   "execution_count": 36,
   "id": "f3f935b8-13de-4bdd-abc7-488b8eb94e93",
   "metadata": {},
   "outputs": [
    {
     "data": {
      "text/html": [
       "<div>\n",
       "<style scoped>\n",
       "    .dataframe tbody tr th:only-of-type {\n",
       "        vertical-align: middle;\n",
       "    }\n",
       "\n",
       "    .dataframe tbody tr th {\n",
       "        vertical-align: top;\n",
       "    }\n",
       "\n",
       "    .dataframe thead th {\n",
       "        text-align: right;\n",
       "    }\n",
       "</style>\n",
       "<table border=\"1\" class=\"dataframe\">\n",
       "  <thead>\n",
       "    <tr style=\"text-align: right;\">\n",
       "      <th></th>\n",
       "      <th>Id</th>\n",
       "      <th>SepalLengthCm</th>\n",
       "      <th>SepalWidthCm</th>\n",
       "      <th>PetalLengthCm</th>\n",
       "      <th>PetalWidthCm</th>\n",
       "    </tr>\n",
       "  </thead>\n",
       "  <tbody>\n",
       "    <tr>\n",
       "      <th>count</th>\n",
       "      <td>50.00000</td>\n",
       "      <td>50.00000</td>\n",
       "      <td>50.000000</td>\n",
       "      <td>50.000000</td>\n",
       "      <td>50.00000</td>\n",
       "    </tr>\n",
       "    <tr>\n",
       "      <th>mean</th>\n",
       "      <td>25.50000</td>\n",
       "      <td>5.00600</td>\n",
       "      <td>3.418000</td>\n",
       "      <td>1.464000</td>\n",
       "      <td>0.24400</td>\n",
       "    </tr>\n",
       "    <tr>\n",
       "      <th>std</th>\n",
       "      <td>14.57738</td>\n",
       "      <td>0.35249</td>\n",
       "      <td>0.381024</td>\n",
       "      <td>0.173511</td>\n",
       "      <td>0.10721</td>\n",
       "    </tr>\n",
       "    <tr>\n",
       "      <th>min</th>\n",
       "      <td>1.00000</td>\n",
       "      <td>4.30000</td>\n",
       "      <td>2.300000</td>\n",
       "      <td>1.000000</td>\n",
       "      <td>0.10000</td>\n",
       "    </tr>\n",
       "    <tr>\n",
       "      <th>25%</th>\n",
       "      <td>13.25000</td>\n",
       "      <td>4.80000</td>\n",
       "      <td>3.125000</td>\n",
       "      <td>1.400000</td>\n",
       "      <td>0.20000</td>\n",
       "    </tr>\n",
       "    <tr>\n",
       "      <th>50%</th>\n",
       "      <td>25.50000</td>\n",
       "      <td>5.00000</td>\n",
       "      <td>3.400000</td>\n",
       "      <td>1.500000</td>\n",
       "      <td>0.20000</td>\n",
       "    </tr>\n",
       "    <tr>\n",
       "      <th>75%</th>\n",
       "      <td>37.75000</td>\n",
       "      <td>5.20000</td>\n",
       "      <td>3.675000</td>\n",
       "      <td>1.575000</td>\n",
       "      <td>0.30000</td>\n",
       "    </tr>\n",
       "    <tr>\n",
       "      <th>max</th>\n",
       "      <td>50.00000</td>\n",
       "      <td>5.80000</td>\n",
       "      <td>4.400000</td>\n",
       "      <td>1.900000</td>\n",
       "      <td>0.60000</td>\n",
       "    </tr>\n",
       "  </tbody>\n",
       "</table>\n",
       "</div>"
      ],
      "text/plain": [
       "             Id  SepalLengthCm  SepalWidthCm  PetalLengthCm  PetalWidthCm\n",
       "count  50.00000       50.00000     50.000000      50.000000      50.00000\n",
       "mean   25.50000        5.00600      3.418000       1.464000       0.24400\n",
       "std    14.57738        0.35249      0.381024       0.173511       0.10721\n",
       "min     1.00000        4.30000      2.300000       1.000000       0.10000\n",
       "25%    13.25000        4.80000      3.125000       1.400000       0.20000\n",
       "50%    25.50000        5.00000      3.400000       1.500000       0.20000\n",
       "75%    37.75000        5.20000      3.675000       1.575000       0.30000\n",
       "max    50.00000        5.80000      4.400000       1.900000       0.60000"
      ]
     },
     "execution_count": 36,
     "metadata": {},
     "output_type": "execute_result"
    }
   ],
   "source": [
    "df1.describe()"
   ]
  },
  {
   "cell_type": "code",
   "execution_count": 37,
   "id": "c0b5692e-c174-4342-a392-694704dc6339",
   "metadata": {},
   "outputs": [
    {
     "data": {
      "text/html": [
       "<div>\n",
       "<style scoped>\n",
       "    .dataframe tbody tr th:only-of-type {\n",
       "        vertical-align: middle;\n",
       "    }\n",
       "\n",
       "    .dataframe tbody tr th {\n",
       "        vertical-align: top;\n",
       "    }\n",
       "\n",
       "    .dataframe thead th {\n",
       "        text-align: right;\n",
       "    }\n",
       "</style>\n",
       "<table border=\"1\" class=\"dataframe\">\n",
       "  <thead>\n",
       "    <tr style=\"text-align: right;\">\n",
       "      <th></th>\n",
       "      <th>Id</th>\n",
       "      <th>SepalLengthCm</th>\n",
       "      <th>SepalWidthCm</th>\n",
       "      <th>PetalLengthCm</th>\n",
       "      <th>PetalWidthCm</th>\n",
       "    </tr>\n",
       "  </thead>\n",
       "  <tbody>\n",
       "    <tr>\n",
       "      <th>count</th>\n",
       "      <td>50.00000</td>\n",
       "      <td>50.000000</td>\n",
       "      <td>50.000000</td>\n",
       "      <td>50.000000</td>\n",
       "      <td>50.000000</td>\n",
       "    </tr>\n",
       "    <tr>\n",
       "      <th>mean</th>\n",
       "      <td>75.50000</td>\n",
       "      <td>5.936000</td>\n",
       "      <td>2.770000</td>\n",
       "      <td>4.260000</td>\n",
       "      <td>1.326000</td>\n",
       "    </tr>\n",
       "    <tr>\n",
       "      <th>std</th>\n",
       "      <td>14.57738</td>\n",
       "      <td>0.516171</td>\n",
       "      <td>0.313798</td>\n",
       "      <td>0.469911</td>\n",
       "      <td>0.197753</td>\n",
       "    </tr>\n",
       "    <tr>\n",
       "      <th>min</th>\n",
       "      <td>51.00000</td>\n",
       "      <td>4.900000</td>\n",
       "      <td>2.000000</td>\n",
       "      <td>3.000000</td>\n",
       "      <td>1.000000</td>\n",
       "    </tr>\n",
       "    <tr>\n",
       "      <th>25%</th>\n",
       "      <td>63.25000</td>\n",
       "      <td>5.600000</td>\n",
       "      <td>2.525000</td>\n",
       "      <td>4.000000</td>\n",
       "      <td>1.200000</td>\n",
       "    </tr>\n",
       "    <tr>\n",
       "      <th>50%</th>\n",
       "      <td>75.50000</td>\n",
       "      <td>5.900000</td>\n",
       "      <td>2.800000</td>\n",
       "      <td>4.350000</td>\n",
       "      <td>1.300000</td>\n",
       "    </tr>\n",
       "    <tr>\n",
       "      <th>75%</th>\n",
       "      <td>87.75000</td>\n",
       "      <td>6.300000</td>\n",
       "      <td>3.000000</td>\n",
       "      <td>4.600000</td>\n",
       "      <td>1.500000</td>\n",
       "    </tr>\n",
       "    <tr>\n",
       "      <th>max</th>\n",
       "      <td>100.00000</td>\n",
       "      <td>7.000000</td>\n",
       "      <td>3.400000</td>\n",
       "      <td>5.100000</td>\n",
       "      <td>1.800000</td>\n",
       "    </tr>\n",
       "  </tbody>\n",
       "</table>\n",
       "</div>"
      ],
      "text/plain": [
       "              Id  SepalLengthCm  SepalWidthCm  PetalLengthCm  PetalWidthCm\n",
       "count   50.00000      50.000000     50.000000      50.000000     50.000000\n",
       "mean    75.50000       5.936000      2.770000       4.260000      1.326000\n",
       "std     14.57738       0.516171      0.313798       0.469911      0.197753\n",
       "min     51.00000       4.900000      2.000000       3.000000      1.000000\n",
       "25%     63.25000       5.600000      2.525000       4.000000      1.200000\n",
       "50%     75.50000       5.900000      2.800000       4.350000      1.300000\n",
       "75%     87.75000       6.300000      3.000000       4.600000      1.500000\n",
       "max    100.00000       7.000000      3.400000       5.100000      1.800000"
      ]
     },
     "execution_count": 37,
     "metadata": {},
     "output_type": "execute_result"
    }
   ],
   "source": [
    "\n",
    "df2.describe()"
   ]
  },
  {
   "cell_type": "code",
   "execution_count": 38,
   "id": "73c44656-652d-4932-926f-a64fd1a867f6",
   "metadata": {},
   "outputs": [
    {
     "data": {
      "text/html": [
       "<div>\n",
       "<style scoped>\n",
       "    .dataframe tbody tr th:only-of-type {\n",
       "        vertical-align: middle;\n",
       "    }\n",
       "\n",
       "    .dataframe tbody tr th {\n",
       "        vertical-align: top;\n",
       "    }\n",
       "\n",
       "    .dataframe thead th {\n",
       "        text-align: right;\n",
       "    }\n",
       "</style>\n",
       "<table border=\"1\" class=\"dataframe\">\n",
       "  <thead>\n",
       "    <tr style=\"text-align: right;\">\n",
       "      <th></th>\n",
       "      <th>Id</th>\n",
       "      <th>SepalLengthCm</th>\n",
       "      <th>SepalWidthCm</th>\n",
       "      <th>PetalLengthCm</th>\n",
       "      <th>PetalWidthCm</th>\n",
       "    </tr>\n",
       "  </thead>\n",
       "  <tbody>\n",
       "    <tr>\n",
       "      <th>count</th>\n",
       "      <td>50.00000</td>\n",
       "      <td>50.00000</td>\n",
       "      <td>50.000000</td>\n",
       "      <td>50.000000</td>\n",
       "      <td>50.00000</td>\n",
       "    </tr>\n",
       "    <tr>\n",
       "      <th>mean</th>\n",
       "      <td>125.50000</td>\n",
       "      <td>6.58800</td>\n",
       "      <td>2.974000</td>\n",
       "      <td>5.552000</td>\n",
       "      <td>2.02600</td>\n",
       "    </tr>\n",
       "    <tr>\n",
       "      <th>std</th>\n",
       "      <td>14.57738</td>\n",
       "      <td>0.63588</td>\n",
       "      <td>0.322497</td>\n",
       "      <td>0.551895</td>\n",
       "      <td>0.27465</td>\n",
       "    </tr>\n",
       "    <tr>\n",
       "      <th>min</th>\n",
       "      <td>101.00000</td>\n",
       "      <td>4.90000</td>\n",
       "      <td>2.200000</td>\n",
       "      <td>4.500000</td>\n",
       "      <td>1.40000</td>\n",
       "    </tr>\n",
       "    <tr>\n",
       "      <th>25%</th>\n",
       "      <td>113.25000</td>\n",
       "      <td>6.22500</td>\n",
       "      <td>2.800000</td>\n",
       "      <td>5.100000</td>\n",
       "      <td>1.80000</td>\n",
       "    </tr>\n",
       "    <tr>\n",
       "      <th>50%</th>\n",
       "      <td>125.50000</td>\n",
       "      <td>6.50000</td>\n",
       "      <td>3.000000</td>\n",
       "      <td>5.550000</td>\n",
       "      <td>2.00000</td>\n",
       "    </tr>\n",
       "    <tr>\n",
       "      <th>75%</th>\n",
       "      <td>137.75000</td>\n",
       "      <td>6.90000</td>\n",
       "      <td>3.175000</td>\n",
       "      <td>5.875000</td>\n",
       "      <td>2.30000</td>\n",
       "    </tr>\n",
       "    <tr>\n",
       "      <th>max</th>\n",
       "      <td>150.00000</td>\n",
       "      <td>7.90000</td>\n",
       "      <td>3.800000</td>\n",
       "      <td>6.900000</td>\n",
       "      <td>2.50000</td>\n",
       "    </tr>\n",
       "  </tbody>\n",
       "</table>\n",
       "</div>"
      ],
      "text/plain": [
       "              Id  SepalLengthCm  SepalWidthCm  PetalLengthCm  PetalWidthCm\n",
       "count   50.00000       50.00000     50.000000      50.000000      50.00000\n",
       "mean   125.50000        6.58800      2.974000       5.552000       2.02600\n",
       "std     14.57738        0.63588      0.322497       0.551895       0.27465\n",
       "min    101.00000        4.90000      2.200000       4.500000       1.40000\n",
       "25%    113.25000        6.22500      2.800000       5.100000       1.80000\n",
       "50%    125.50000        6.50000      3.000000       5.550000       2.00000\n",
       "75%    137.75000        6.90000      3.175000       5.875000       2.30000\n",
       "max    150.00000        7.90000      3.800000       6.900000       2.50000"
      ]
     },
     "execution_count": 38,
     "metadata": {},
     "output_type": "execute_result"
    }
   ],
   "source": [
    "df3.describe()"
   ]
  },
  {
   "cell_type": "code",
   "execution_count": 40,
   "id": "03cec44b-d02d-4719-be4a-ee0995204632",
   "metadata": {},
   "outputs": [],
   "source": [
    "grouped = df.groupby('Species')"
   ]
  },
  {
   "cell_type": "code",
   "execution_count": 41,
   "id": "a130de57-3185-4112-952d-f12bdd8d3246",
   "metadata": {},
   "outputs": [],
   "source": [
    "summary_stats = grouped['SepalLengthCm'].describe()"
   ]
  },
  {
   "cell_type": "code",
   "execution_count": 42,
   "id": "53d9dc1d-641c-4a26-812f-c5c638595bcb",
   "metadata": {},
   "outputs": [],
   "source": [
    "mean_sepal_length = grouped['SepalLengthCm'].mean()\n",
    "median_sepal_length = grouped['SepalLengthCm'].median()\n",
    "std_sepal_length = grouped['SepalLengthCm'].std()\n",
    "min_sepal_length = grouped['SepalLengthCm'].min()\n",
    "max_sepal_length = grouped['SepalLengthCm'].max()\n",
    "variance_sepal_length = grouped['SepalLengthCm'].var()\n"
   ]
  },
  {
   "cell_type": "code",
   "execution_count": 43,
   "id": "7a178d73-8547-4b0f-8226-960b68c1bb3c",
   "metadata": {},
   "outputs": [],
   "source": [
    "summary_stats_combined = pd.DataFrame({\n",
    "    'Mean': mean_sepal_length,\n",
    "    'Median': median_sepal_length,\n",
    "    'Std Dev': std_sepal_length,\n",
    "    'Variance': variance_sepal_length,\n",
    "    'Min': min_sepal_length,\n",
    "    'Max': max_sepal_length\n",
    "})\n"
   ]
  },
  {
   "cell_type": "code",
   "execution_count": 44,
   "id": "32250538-2ae0-43c5-bd7f-145b519c3dca",
   "metadata": {},
   "outputs": [
    {
     "name": "stdout",
     "output_type": "stream",
     "text": [
      "\n",
      "Summary Statistics for Sepal Length by Species:\n",
      "                  Mean  Median   Std Dev  Variance  Min  Max\n",
      "Species                                                     \n",
      "Iris-setosa      5.006     5.0  0.352490  0.124249  4.3  5.8\n",
      "Iris-versicolor  5.936     5.9  0.516171  0.266433  4.9  7.0\n",
      "Iris-virginica   6.588     6.5  0.635880  0.404343  4.9  7.9\n"
     ]
    }
   ],
   "source": [
    "print(\"\\nSummary Statistics for Sepal Length by Species:\")\n",
    "print(summary_stats_combined)"
   ]
  },
  {
   "cell_type": "code",
   "execution_count": 57,
   "id": "e8be744f-dc13-4014-8b55-2de918fc5f19",
   "metadata": {},
   "outputs": [
    {
     "name": "stdout",
     "output_type": "stream",
     "text": [
      "\n",
      "List of Sepal Length values grouped by Species:\n",
      "Species\n",
      "Iris-setosa        [5.1, 4.9, 4.7, 4.6, 5.0, 5.4, 4.6, 5.0, 4.4, ...\n",
      "Iris-versicolor    [7.0, 6.4, 6.9, 5.5, 6.5, 5.7, 6.3, 4.9, 6.6, ...\n",
      "Iris-virginica     [6.3, 5.8, 7.1, 6.3, 6.5, 7.6, 4.9, 7.3, 6.7, ...\n",
      "Name: SepalLengthCm, dtype: object\n"
     ]
    }
   ],
   "source": [
    "sepal_length_by_species = grouped['SepalLengthCm'].apply(list)\n",
    "print(\"\\nList of Sepal Length values grouped by Species:\")\n",
    "print(sepal_length_by_species)"
   ]
  },
  {
   "cell_type": "code",
   "execution_count": 58,
   "id": "81433cc7-0ce2-46b4-97d8-8177bb2999ee",
   "metadata": {},
   "outputs": [
    {
     "data": {
      "text/plain": [
       "<Figure size 1200x800 with 0 Axes>"
      ]
     },
     "metadata": {},
     "output_type": "display_data"
    }
   ],
   "source": [
    "plt.figure(figsize=(12, 8))\n",
    "sns.set(style=\"whitegrid\")"
   ]
  },
  {
   "cell_type": "code",
   "execution_count": 24,
   "id": "26232022-0bbe-47c9-89ba-b56ff18bd3a0",
   "metadata": {},
   "outputs": [
    {
     "name": "stderr",
     "output_type": "stream",
     "text": [
      "C:\\Users\\HP\\AppData\\Local\\Temp\\ipykernel_249336\\3844910251.py:8: FutureWarning: \n",
      "\n",
      "Passing `palette` without assigning `hue` is deprecated and will be removed in v0.14.0. Assign the `x` variable to `hue` and set `legend=False` for the same effect.\n",
      "\n",
      "  sns.boxplot(x='Species', y='SepalLengthCm', data=df, palette=palette)\n",
      "C:\\Users\\HP\\AppData\\Local\\Temp\\ipykernel_249336\\3844910251.py:8: UserWarning: The palette list has more values (8) than needed (3), which may not be intended.\n",
      "  sns.boxplot(x='Species', y='SepalLengthCm', data=df, palette=palette)\n"
     ]
    },
    {
     "data": {
      "image/png": "[encoded data removed]",
      "text/plain": [
       "<Figure size 800x600 with 1 Axes>"
      ]
     },
     "metadata": {},
     "output_type": "display_data"
    }
   ],
   "source": [
    "plt.figure(figsize=(8, 6))\n",
    "sns.set(style=\"whitegrid\")\n",
    "\n",
    "# Use a colorful palette\n",
    "palette = sns.color_palette(\"Set2\")  # Try \"Set1\", \"Set2\", \"pastel\", \"coolwarm\", etc.\n",
    "\n",
    "# Boxplot with color\n",
    "sns.boxplot(x='Species', y='SepalLengthCm', data=df, palette=palette)\n",
    "\n",
    "# Customize the plot\n",
    "plt.title('Sepal Length Distribution by Species', fontsize=16, weight='bold', color='darkblue')\n",
    "plt.xlabel('Species', fontsize=14, color='darkgreen')\n",
    "plt.ylabel('Sepal Length (cm)', fontsize=14, color='darkgreen')\n",
    "plt.xticks(rotation=45, ha='right')\n",
    "plt.grid(True, linestyle='--', alpha=0.7)\n",
    "\n",
    "# Final layout and show\n",
    "plt.tight_layout()\n",
    "plt.show()"
   ]
  },
  {
   "cell_type": "code",
   "execution_count": null,
   "id": "668e18d4-d9f5-41c1-a47c-a26fcc2fefcd",
   "metadata": {},
   "outputs": [],
   "source": []
  }
 ],
 "metadata": {
  "kernelspec": {
   "display_name": "Python 3 (ipykernel)",
   "language": "python",
   "name": "python3"
  },
  "language_info": {
   "codemirror_mode": {
    "name": "ipython",
    "version": 3
   },
   "file_extension": ".py",
   "mimetype": "text/x-python",
   "name": "python",
   "nbconvert_exporter": "python",
   "pygments_lexer": "ipython3",
   "version": "3.13.3"
  }
 },
 "nbformat": 4,
 "nbformat_minor": 5
}
